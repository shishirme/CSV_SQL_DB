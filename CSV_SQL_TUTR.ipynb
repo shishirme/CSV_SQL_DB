{
 "cells": [
  {
   "cell_type": "code",
   "execution_count": 30,
   "metadata": {},
   "outputs": [
    {
     "name": "stdout",
     "output_type": "stream",
     "text": [
      "       roll_number  question_paper_code  question_number option_marked\n",
      "0            10001                  501                1             b\n",
      "1            10001                  501                2             a\n",
      "2            10001                  501                3             e\n",
      "3            10001                  501                4             e\n",
      "4            10001                  501                5             e\n",
      "...            ...                  ...              ...           ...\n",
      "24095        10241                  103               36             c\n",
      "24096        10241                  103               37             b\n",
      "24097        10241                  103               38             a\n",
      "24098        10241                  103               39             c\n",
      "24099        10241                  103               40             e\n",
      "\n",
      "[24100 rows x 4 columns]\n"
     ]
    },
    {
     "data": {
      "text/plain": [
       "Index(['roll_number', 'question_paper_code', 'question_number',\n",
       "       'option_marked'],\n",
       "      dtype='object')"
      ]
     },
     "execution_count": 30,
     "metadata": {},
     "output_type": "execute_result"
    }
   ],
   "source": [
    "import pypyodbc as odbc\n",
    "import pandas as pd\n",
    "#from requests import head\n",
    "#pip  install openpyxl for read_excel\n",
    "\"\"\"\n",
    "Step:1 Importing data set from csv\n",
    "\"\"\"\n",
    "df=pd.read_csv(\"C:/Users/shish/Desktop/DESK_TOP/DATA_SET_CSV/student_response.csv\")\n",
    "print(df)\n",
    "df.columns"
   ]
  },
  {
   "cell_type": "code",
   "execution_count": 31,
   "metadata": {},
   "outputs": [
    {
     "data": {
      "text/plain": [
       "[[10001, 501, 1, 'b'],\n",
       " [10001, 501, 2, 'a'],\n",
       " [10001, 501, 3, 'e'],\n",
       " [10001, 501, 4, 'e'],\n",
       " [10001, 501, 5, 'e'],\n",
       " [10001, 501, 6, 'b'],\n",
       " [10001, 501, 7, 'd'],\n",
       " [10001, 501, 8, 'e'],\n",
       " [10001, 501, 9, 'b'],\n",
       " [10001, 501, 10, 'a']]"
      ]
     },
     "execution_count": 31,
     "metadata": {},
     "output_type": "execute_result"
    }
   ],
   "source": [
    "'''\n",
    "Step 2: Specify Column\n",
    "'''\n",
    "columns = ['roll_number', 'question_paper_code', 'question_number',\n",
    "       'option_marked']\n",
    "df_data= df[columns]\n",
    "records=df_data.values.tolist()\n",
    "records[:10]"
   ]
  },
  {
   "cell_type": "code",
   "execution_count": 21,
   "metadata": {},
   "outputs": [],
   "source": [
    "# Define the connection string to the SQL database\n",
    "conn_str = 'DRIVER={SQL Server};SERVER=DESKTOP-2TPQOB3\\SQLEXPRESS;DATABASE=ANSWER;'\n",
    "# Create a connection object\n",
    "conn = odbc.connect(conn_str)\n",
    "cursor = conn.cursor()\n"
   ]
  },
  {
   "cell_type": "code",
   "execution_count": 23,
   "metadata": {},
   "outputs": [
    {
     "data": {
      "text/plain": [
       "<pypyodbc.Cursor at 0x25fddde3460>"
      ]
     },
     "execution_count": 23,
     "metadata": {},
     "output_type": "execute_result"
    }
   ],
   "source": [
    "cursor.execute(\"DROP TABLE IF EXISTS ST_RESP;\")\n",
    "cursor.execute(\"CREATE TABLE ST_RESP (roll_number INTEGER, question_paper_code INTEGER, question_number INTEGER, option_marked NVARCHAR(10));\")\n"
   ]
  },
  {
   "cell_type": "code",
   "execution_count": 27,
   "metadata": {},
   "outputs": [],
   "source": [
    "'''\n",
    "Step 3.2 Create a cursor connection\n",
    "'''\n",
    "sql_insert = '''\n",
    "    INSERT INTO ST_RESP\n",
    "    Values(?, ?, ?, ?)\n",
    "'''"
   ]
  },
  {
   "cell_type": "code",
   "execution_count": 28,
   "metadata": {},
   "outputs": [],
   "source": [
    "cursor.executemany(sql_insert,records)\n",
    "cursor.commit()"
   ]
  },
  {
   "cell_type": "code",
   "execution_count": 29,
   "metadata": {},
   "outputs": [],
   "source": [
    "cursor.close()\n",
    "conn.close()"
   ]
  }
 ],
 "metadata": {
  "kernelspec": {
   "display_name": "Python 3",
   "language": "python",
   "name": "python3"
  },
  "language_info": {
   "codemirror_mode": {
    "name": "ipython",
    "version": 3
   },
   "file_extension": ".py",
   "mimetype": "text/x-python",
   "name": "python",
   "nbconvert_exporter": "python",
   "pygments_lexer": "ipython3",
   "version": "3.10.11"
  },
  "orig_nbformat": 4
 },
 "nbformat": 4,
 "nbformat_minor": 2
}
