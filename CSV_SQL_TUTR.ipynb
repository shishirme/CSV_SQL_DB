{
 "cells": [
  {
   "cell_type": "code",
   "execution_count": null,
   "metadata": {},
   "outputs": [],
   "source": [
    "import pypyodbc as odbc\n",
    "import pandas as pd\n",
    "from requests import head\n",
    "\"\"\"\n",
    "Step:1 Importing data set from csv\n",
    "\"\"\"\n",
    "df=pd.read_csv('C:/Users/shish/Desktop/TFQ/Dataset_n_Scripts/student_response.csv')\n",
    "print(df)\n",
    "df.columns"
   ]
  },
  {
   "cell_type": "code",
   "execution_count": null,
   "metadata": {},
   "outputs": [],
   "source": [
    "'''\n",
    "Step 2: Specify Column\n",
    "'''\n",
    "columns = ['roll_number', 'question_paper_code', 'question_number',\n",
    "       'option_marked']\n",
    "df_data= df[columns]\n",
    "records=df_data.values.tolist()\n",
    "records[:10]"
   ]
  },
  {
   "cell_type": "code",
   "execution_count": null,
   "metadata": {},
   "outputs": [],
   "source": [
    "# Define the connection string to the SQL database\n",
    "conn_str = 'DRIVER={SQL Server};SERVER=DESKTOP-2TPQOB3\\SQLEXPRESS;DATABASE=ANSWER;'\n",
    "# Create a connection object\n",
    "conn = odbc.connect(conn_str)"
   ]
  },
  {
   "cell_type": "code",
   "execution_count": null,
   "metadata": {},
   "outputs": [],
   "source": [
    "cursor = conn.cursor()"
   ]
  },
  {
   "cell_type": "code",
   "execution_count": null,
   "metadata": {},
   "outputs": [],
   "source": [
    "cursor.execute(\"Drop table if exists ST_RESP;CREATE TABLE ST_RESP (roll_number INTEGER, question_paper_code INTEGER, question_number INTEGER,option_marked NVARCHAR(10));\")"
   ]
  },
  {
   "cell_type": "code",
   "execution_count": null,
   "metadata": {},
   "outputs": [],
   "source": [
    "'''\n",
    "Step 3.2 Create a cursor connection\n",
    "'''\n",
    "sql_insert = '''\n",
    "    INSERT INTO ST_RESP\n",
    "    Values(?, ?, ?, ?)\n",
    "'''"
   ]
  },
  {
   "cell_type": "code",
   "execution_count": null,
   "metadata": {},
   "outputs": [],
   "source": [
    "cursor.executemany(sql_insert,records)\n",
    "cursor.commit()"
   ]
  },
  {
   "cell_type": "code",
   "execution_count": null,
   "metadata": {},
   "outputs": [],
   "source": [
    "cursor.close()\n",
    "conn.close()"
   ]
  }
 ],
 "metadata": {
  "kernelspec": {
   "display_name": "Python 3",
   "language": "python",
   "name": "python3"
  },
  "language_info": {
   "codemirror_mode": {
    "name": "ipython",
    "version": 3
   },
   "file_extension": ".py",
   "mimetype": "text/x-python",
   "name": "python",
   "nbconvert_exporter": "python",
   "pygments_lexer": "ipython3",
   "version": "3.10.11"
  },
  "orig_nbformat": 4
 },
 "nbformat": 4,
 "nbformat_minor": 2
}
