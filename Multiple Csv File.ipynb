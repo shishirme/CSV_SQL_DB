{
 "cells": [
  {
   "cell_type": "code",
   "execution_count": null,
   "metadata": {},
   "outputs": [],
   "source": [
    "import pypyodbc as odbc\n",
    "import pandas as pd\n",
    "from requests import head\n",
    "import os\n",
    "#pip  install openpyxl for read_excel\n",
    "\"\"\"\n",
    "Step:1 Importing data set from csv\n",
    "\"\"\"\n",
    "df=pd.read_csv('C:/Users/shish/Desktop/TFQ/Dataset_n_Scripts/student_response.csv')\n",
    "print(df)\n",
    "df.columns"
   ]
  },
  {
   "cell_type": "code",
   "execution_count": null,
   "metadata": {},
   "outputs": [],
   "source": [
    "def bulk_insert (date_file,target_table):\n",
    "    sql=f\"\"\"\n",
    "        BULK INSERT{target_table}\n",
    "        FROM'{date_file}'\n",
    "        WITH\n",
    "        (\n",
    "            FORMAT ='CSV',\n",
    "            FIRSTROW = 2,\n",
    "            FIELDTERMINATOR = ',',\n",
    "            ROWTERMINATOR - '\\\\n'\n",
    "            \n",
    "        )\n",
    "        \"\"\".strip()"
   ]
  },
  {
   "cell_type": "code",
   "execution_count": null,
   "metadata": {},
   "outputs": [],
   "source": [
    "SERVICE_NAME = 'DESKTOP-2TPQOB3\\SQLEXPRESS' \n",
    "DATABASE_NAME = 'Multiple'\n",
    "target_table = 'target_table'"
   ]
  },
  {
   "cell_type": "code",
   "execution_count": null,
   "metadata": {},
   "outputs": [],
   "source": [
    "conn = odbc.connect(f'''\n",
    "    DRIVER={{SQL Server}};\n",
    "    Server={SERVICE_NAME};\n",
    "    Database={DATABASE_NAME}\n",
    "    '''.strip())"
   ]
  },
  {
   "cell_type": "code",
   "execution_count": null,
   "metadata": {},
   "outputs": [],
   "source": [
    "#step1: Establish sql server Connection\n",
    "\n",
    "# Define the connection string to the SQL database\n",
    "conn_str = 'DRIVER={SQL Server};SERVER=DESKTOP-2TPQOB3\\SQLEXPRESS;DATABASE=Multiple;'\n",
    "# Create a connection object\n",
    "conn = odbc.connect(conn_str)\n",
    "\n",
    "print(conn)\n"
   ]
  },
  {
   "cell_type": "code",
   "execution_count": null,
   "metadata": {},
   "outputs": [],
   "source": [
    "\n",
    "#step2: Iterate through data files and upload\n",
    "data_file_folder = os.path.join(os.getcwd(),'C:/Users/shish/Desktop/DATA_SET_CSV')\n",
    "data_files = os.listdir(data_file_folder)\n",
    "print(data_files)"
   ]
  },
  {
   "cell_type": "code",
   "execution_count": null,
   "metadata": {},
   "outputs": [],
   "source": [
    "cursor = conn.cursor()\n",
    "try:\n",
    "    with cursor:\n",
    "        for data_file in data_files:\n",
    "            if data_file.endswith('.csv'):\n",
    "                cursor.execute(bulk_insert(os.path.join(data_file_folder, data_file), target_table))\n",
    "                print(os.path.join(data_file_folder, data_file),target_table + ' inserted')\n",
    "        cursor.commit()\n",
    "except Exception as e:\n",
    "    print(e)\n",
    "    conn.rollback()\n",
    "    print('Transaction rollback')\n"
   ]
  }
 ],
 "metadata": {
  "kernelspec": {
   "display_name": "Python 3",
   "language": "python",
   "name": "python3"
  },
  "language_info": {
   "name": "python",
   "version": "3.10.11"
  },
  "orig_nbformat": 4
 },
 "nbformat": 4,
 "nbformat_minor": 2
}
